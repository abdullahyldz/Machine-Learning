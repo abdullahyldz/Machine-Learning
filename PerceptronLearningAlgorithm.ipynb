{
 "cells": [
  {
   "cell_type": "code",
   "execution_count": 1,
   "metadata": {},
   "outputs": [],
   "source": [
    "import numpy as np\n",
    "import pandas as pd\n",
    "import seaborn as sb\n",
    "import matplotlib\n",
    "import random\n",
    "import time\n",
    "from random import randint"
   ]
  },
  {
   "cell_type": "code",
   "execution_count": 2,
   "metadata": {},
   "outputs": [
    {
     "name": "stdout",
     "output_type": "stream",
     "text": [
      "x-y: 2-8\n",
      "x-y: 3-8\n",
      "x-y: 2-10\n",
      "x-y: 6-9\n",
      "x-y: 9-3\n",
      "x-y: 4-5\n",
      "x-y: 10-1\n",
      "x-y: 9-2\n",
      "x-y: 8-9\n",
      "x-y: 4-9\n",
      "x-y: 5--4\n",
      "x-y: 10--8\n",
      "x-y: 9--3\n",
      "x-y: 9--10\n",
      "x-y: 8--7\n",
      "x-y: 10--2\n",
      "x-y: 1--1\n",
      "x-y: 5--6\n",
      "x-y: 5--2\n",
      "x-y: 1--10\n"
     ]
    }
   ],
   "source": [
    "data = []\n",
    "import matplotlib.pyplot as plt\n",
    "for i in range(10):\n",
    "    x = randint(1,10)\n",
    "    y = randint(1,10)\n",
    "    color = 'blue'\n",
    "    data.append((x,y,color,-1))\n",
    "    print(\"x-y: %d-%d\" %(x,y))\n",
    "for i in range(10):\n",
    "    x = randint(1,10)\n",
    "    y = randint(-10,-1)\n",
    "    color = 'red'\n",
    "    print(\"x-y: %d-%d\" %(x,y))\n",
    "    data.append((x,y,color,+1))"
   ]
  },
  {
   "cell_type": "markdown",
   "metadata": {},
   "source": [
    "### Initial configuration of dataset"
   ]
  },
  {
   "cell_type": "code",
   "execution_count": 3,
   "metadata": {},
   "outputs": [
    {
     "data": {
      "text/plain": [
       "[<matplotlib.lines.Line2D at 0x154786af390>]"
      ]
     },
     "execution_count": 3,
     "metadata": {},
     "output_type": "execute_result"
    },
    {
     "data": {
      "image/png": "[encoded data removed]",
      "text/plain": [
       "<Figure size 432x288 with 1 Axes>"
      ]
     },
     "metadata": {
      "needs_background": "light"
     },
     "output_type": "display_data"
    }
   ],
   "source": [
    "for point in data:\n",
    "    plt.scatter(point[0],point[1],color = point[2], marker = 'o' if point[3]==-1 else 'x' )\n",
    "xs = np.linspace(0,10,100)\n",
    "h = [2,-8]\n",
    "ys = h[0]*xs + h[1]\n",
    "plt.plot(xs,ys)"
   ]
  },
  {
   "cell_type": "markdown",
   "metadata": {},
   "source": [
    "### Find a random misclassified point"
   ]
  },
  {
   "cell_type": "code",
   "execution_count": 4,
   "metadata": {},
   "outputs": [],
   "source": [
    "def signNum(x):\n",
    "    if(x<0):\n",
    "        return -1\n",
    "    else:\n",
    "        return 1"
   ]
  },
  {
   "cell_type": "code",
   "execution_count": 19,
   "metadata": {},
   "outputs": [
    {
     "name": "stdout",
     "output_type": "stream",
     "text": [
      "(8, 9, 'blue', -1)\n",
      "[-5, -15]\n"
     ]
    }
   ],
   "source": [
    "print(point)\n",
    "print(h)"
   ]
  },
  {
   "cell_type": "code",
   "execution_count": 28,
   "metadata": {},
   "outputs": [
    {
     "name": "stdout",
     "output_type": "stream",
     "text": [
      "(3, 8, 'blue', -1)\n"
     ]
    }
   ],
   "source": [
    "point = random.choice(data)\n",
    "num = point[1]-h[0]*point[0]+h[1]\n",
    "while(signNum(num) == point[3]):\n",
    "    point = random.choice(data)\n",
    "    num = h[0]*point[0]+h[1] - point[1]\n",
    "print(point)"
   ]
  },
  {
   "cell_type": "code",
   "execution_count": 29,
   "metadata": {},
   "outputs": [
    {
     "name": "stdout",
     "output_type": "stream",
     "text": [
      "before the PLA:\n",
      "[-9, -21]\n",
      "after the PLA:\n",
      "[-12, -29]\n",
      "count: 8\n"
     ]
    },
    {
     "data": {
      "image/png": "[encoded data removed]",
      "text/plain": [
       "<Figure size 432x288 with 1 Axes>"
      ]
     },
     "metadata": {
      "needs_background": "light"
     },
     "output_type": "display_data"
    }
   ],
   "source": [
    "print(\"before the PLA:\")\n",
    "print(h)\n",
    "h[0] += point[0] * point[3] \n",
    "h[1] -= point[1]\n",
    "print(\"after the PLA:\")\n",
    "print(h)\n",
    "for pt in data:\n",
    "    plt.scatter(pt[0],pt[1],color = pt[2], marker = 'o' if pt[3]==-1 else 'x' )\n",
    "ys = h[0]*xs + h[1]\n",
    "plt.plot(xs,ys)\n",
    "count=0\n",
    "for pt in data:\n",
    "    num = pt[1]-h[0]*pt[0]+h[1]\n",
    "    if(signNum(num) == pt[3]):\n",
    "        count+=1\n",
    "print(\"count: %d\" % count )"
   ]
  },
  {
   "cell_type": "code",
   "execution_count": 12,
   "metadata": {},
   "outputs": [
    {
     "data": {
      "text/plain": [
       "(1, -1, 'red', 1)"
      ]
     },
     "execution_count": 12,
     "metadata": {},
     "output_type": "execute_result"
    }
   ],
   "source": [
    "point"
   ]
  },
  {
   "cell_type": "code",
   "execution_count": null,
   "metadata": {},
   "outputs": [],
   "source": []
  }
 ],
 "metadata": {
  "kernelspec": {
   "display_name": "Python 3",
   "language": "python",
   "name": "python3"
  },
  "language_info": {
   "codemirror_mode": {
    "name": "ipython",
    "version": 3
   },
   "file_extension": ".py",
   "mimetype": "text/x-python",
   "name": "python",
   "nbconvert_exporter": "python",
   "pygments_lexer": "ipython3",
   "version": "3.7.1"
  }
 },
 "nbformat": 4,
 "nbformat_minor": 2
}
